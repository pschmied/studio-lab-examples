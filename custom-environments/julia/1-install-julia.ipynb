{
 "cells": [
  {
   "cell_type": "markdown",
   "id": "d933b4c6-7f11-454d-bf6a-72c4039da306",
   "metadata": {},
   "source": [
    "# Use Julia with Studio Lab\n",
    "\n",
    "\n",
    "[![Open In Studio Lab](https://studiolab.sagemaker.aws/studiolab.svg)](https://studiolab.sagemaker.aws/import/github/aws/studio-lab-examples/blob/main/custom-environments/julia/1-install-julia.ipynb)\n",
    "\n",
    "This notebook will demonstrate installing a recent version of Julia (1.9.2 as of this writing) and an associated Julia kernel."
   ]
  },
  {
   "cell_type": "markdown",
   "id": "7e523bd8-6c7b-430a-9968-e9a46a502829",
   "metadata": {},
   "source": [
    "## 1. Downloading and installing Julia\n",
    "\n",
    "Julia is available either via direct download or via the Conda package manager. Here we demonstrate installing the official Julia release, as it is self-contained and is as simple as downloading, decompressing, and then linking the julia executable into a path recognized by our conda environment."
   ]
  },
  {
   "cell_type": "code",
   "execution_count": null,
   "id": "c7558cf2-f813-492f-8991-a60680bda389",
   "metadata": {
    "tags": []
   },
   "outputs": [],
   "source": [
    "%system curl -OL https://julialang-s3.julialang.org/bin/linux/x64/1.9/julia-1.9.2-linux-x86_64.tar.gz\n",
    "\n",
    "%system tar xzvf julia-1.9.2-linux-x86_64.tar.gz -C $HOME\n",
    "\n",
    "%system ln -s $HOME/julia-1.9.2/bin/julia $CONDA_PREFIX/bin/julia\n",
    "\n",
    "%system rm julia-1.9.2-linux-x86_64.tar.gz"
   ]
  },
  {
   "cell_type": "markdown",
   "id": "bec6f61c-1156-46d3-ade6-d7562ed409fa",
   "metadata": {},
   "source": [
    "## 2. Install the IJulia kernel\n",
    "\n",
    "Installing the IJulia kernel is similiarly simple. Here we invoke the Julia executable we installed in the previous section, and then use the Julia package manager to install the IJulia kernel"
   ]
  },
  {
   "cell_type": "code",
   "execution_count": null,
   "id": "12bf6ca9-9349-4b82-b1ea-f5e26b27ee25",
   "metadata": {},
   "outputs": [],
   "source": [
    "%system julia -e 'using Pkg; Pkg.add([\"IJulia\"]);'"
   ]
  },
  {
   "cell_type": "markdown",
   "id": "a3e58026-678e-415e-abd1-44c71af184f8",
   "metadata": {},
   "source": [
    "Lastly, let's register a couple of kernel profiles with the default conda environment so they show up in our SageMaker Studio Lab launcher. Here we add two profiles: one single-threaded, and one with multiple threads enabled at startup."
   ]
  },
  {
   "cell_type": "code",
   "execution_count": null,
   "id": "84ca7430-dc35-4e31-b61f-c7032d315bb8",
   "metadata": {},
   "outputs": [],
   "source": [
    "%system JUPYTER_DATA_DIR=$CONDA_PREFIX/share/jupyter/ \\\n",
    " julia -e 'using IJulia; installkernel(\"Julia (single-threaded)\")'"
   ]
  },
  {
   "cell_type": "code",
   "execution_count": null,
   "id": "1b0220ef-58e4-4c1c-b9da-3596e9dea897",
   "metadata": {},
   "outputs": [],
   "source": [
    "%system JUPYTER_DATA_DIR=$CONDA_PREFIX/share/jupyter/ \\\n",
    " julia -e 'using IJulia; installkernel(\"Julia (4 threads)\", env=Dict(\"JULIA_NUM_THREADS\"=>\"4\"))'"
   ]
  },
  {
   "cell_type": "markdown",
   "id": "768d705d-14cc-47af-8cb1-6c2358ee803a",
   "metadata": {},
   "source": [
    "## 3. Using Julia\n",
    "\n",
    "With Julia installed, and the IJulia kernel registered, you can create a new Julia notebook from the SageMaker Studio Lab launcher. You can also follow along with the example Julia notebook in this folder."
   ]
  }
 ],
 "metadata": {
  "kernelspec": {
   "display_name": "default:Python",
   "language": "python",
   "name": "conda-env-default-py"
  },
  "language_info": {
   "codemirror_mode": {
    "name": "ipython",
    "version": 3
   },
   "file_extension": ".py",
   "mimetype": "text/x-python",
   "name": "python",
   "nbconvert_exporter": "python",
   "pygments_lexer": "ipython3",
   "version": "3.9.7"
  }
 },
 "nbformat": 4,
 "nbformat_minor": 5
}
